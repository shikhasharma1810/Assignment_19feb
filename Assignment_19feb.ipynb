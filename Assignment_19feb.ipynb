{
 "cells": [
  {
   "cell_type": "code",
   "execution_count": null,
   "id": "d97a40ee-63fe-4dc8-9eec-502f391f5d24",
   "metadata": {},
   "outputs": [],
   "source": [
    "Q1. What is Flask Framework? What are the advantages of Flask Framework?\n",
    "\n",
    "Flask is a Python-based, open-source web application framework that allows developers to build web applications quickly and\n",
    "efficiently. It's a lightweight micro-framework that offers essential tools and libraries to create web applications without\n",
    "imposing any strict rules or guidelines.\n",
    "\n",
    "Advantages of Flask Framework--\n",
    "\n",
    "Scalable: Flask's status as a microframework means that we can use it to grow a tech project such as a web app incredibly\n",
    "quickly.\n",
    "\n",
    "Flexible: Flask provides flexibility to the developer to experiment with their modules or architecture.\n",
    "\n",
    "Easy to learn: Flask is also lightweight and easy to learn, making it a popular choice for small projects or developers new\n",
    "to web development.\n",
    "\n",
    "Built-in functionality: Flask has a lot of built-in functionality, such as support for templates, session management, and\n",
    "user authentication.\n",
    "\n",
    "Support for secure cookies: Flask supports secure cookies."
   ]
  },
  {
   "cell_type": "code",
   "execution_count": null,
   "id": "da259671-7dcd-42f5-b498-2775704fa403",
   "metadata": {},
   "outputs": [],
   "source": [
    "Q2. Create a simple Flask application to display ‘Hello World!!’. Attach the screenshot of the output in Jupyter Notebook.\n",
    "\n",
    "from flask import Flask\n",
    "\n",
    "app = Flask(__name__)\n",
    "\n",
    "@app.route(\"/\")\n",
    "def hello_world():\n",
    "    return \"<h1>Hello, World!</h1>\"\n",
    "\n",
    "if __name__==\"__main__\":\n",
    "    app.run(host=\"0.0.0.0\")"
   ]
  },
  {
   "cell_type": "code",
   "execution_count": null,
   "id": "f2fb20e8-c285-433b-a106-5aade0ce5bda",
   "metadata": {},
   "outputs": [],
   "source": [
    "![Screenshot from 2024-01-09 23-01-43.png](attachment:be89f63f-7529-4e08-9054-34b643fe653.png)"
   ]
  },
  {
   "cell_type": "code",
   "execution_count": null,
   "id": "fc52b779-a2de-4678-a34a-7f1830f7588c",
   "metadata": {},
   "outputs": [],
   "source": [
    "Q3. What is App routing in Flask? Why do we use app routes?\n",
    "\n",
    "App routing is the technique used to map the specific URL with the associated function intended to perform some task.\n",
    "The Latest Web frameworks use the routing technique to help users remember application URLs.\n",
    "\n",
    "Here is an example of how app routing works:\n",
    "\n",
    "@app.route(\"/\")\n",
    "def index():\n",
    "    return \"Hello, World!\"\n",
    "\n",
    "@app.route(\"/users/login\")\n",
    "def login():\n",
    "    return \"Login Page\"\n",
    "\n",
    "In this example, there are two routes: one for the root URL (\"/\") and one for the \"/users/login\" URL. The index() function\n",
    "is called when the root URL is requested, and the login() function is called when the \"/users/login\" URL is requested.\n",
    "App routing is a powerful feature that can help us to organize your code and make your application more user-friendly."
   ]
  },
  {
   "cell_type": "code",
   "execution_count": null,
   "id": "eb48ba77-7d77-48ea-b38e-f54ba9181f28",
   "metadata": {},
   "outputs": [],
   "source": [
    "Q4. Create a “/welcome” route to display the welcome message “Welcome to ABC Corporation” and a “/” route to show the\n",
    "following details:\n",
    "Company Name: ABC Corporation\n",
    "Location: India\n",
    "Contact Detail: 999-999-9999\n",
    "Attach the screenshot of the output in Jupyter Notebook.\n",
    "\n",
    "from flask import Flask\n",
    "from flask import request\n",
    "\n",
    "app = Flask(__name__)\n",
    "\n",
    "@app.route(\"/welcome\")\n",
    "def welcome():\n",
    "    return \"<h1>Welcome to ABC Corporation</h1>\"\n",
    "\n",
    "@app.route(\"/\")\n",
    "def info():\n",
    "    data=request.args.get('g')\n",
    "    return \"Company Name: ABC Corporation, Location: India, Contact Detail: 999-999-9999 \".format(data)\n",
    "\n",
    "if __name__==\"__main__\":\n",
    "    app.run(host=\"0.0.0.0\")"
   ]
  },
  {
   "cell_type": "code",
   "execution_count": null,
   "id": "0ae43440-7b5e-447f-a894-4a63ed2f3556",
   "metadata": {},
   "outputs": [],
   "source": [
    "![Screenshot from 2024-01-09 23-34-36.png](attachment:68d41ee6-e48f-470e-a974-85711fab8d53.png)"
   ]
  },
  {
   "cell_type": "code",
   "execution_count": null,
   "id": "0e6fcc16-c988-481d-affc-607500e3a1cc",
   "metadata": {},
   "outputs": [],
   "source": [
    "![Screenshot from 2024-01-09 23-34-44.png](attachment:15a6a1f4-d3eb-452c-8905-3641154bb7b8.png)"
   ]
  },
  {
   "cell_type": "code",
   "execution_count": null,
   "id": "12b097dd-ccc3-455d-9175-b98d39edbd3e",
   "metadata": {},
   "outputs": [],
   "source": [
    "Q5. What function is used in Flask for URL Building? Write a Python code to demonstrate the working of the url_for() function.\n",
    "\n",
    "The url_for() function is used in Flask for URL Building. It is a helper function that takes the name of a function as its\n",
    "first argument and any number of keyword arguments as its second argument. The function returns the URL for the specified \n",
    "function, with the keyword arguments replaced with their values.\n",
    "\n",
    "Here is an example of how to use the url_for() function:\n",
    "\n",
    "from flask import Flask, url_for\n",
    "\n",
    "app = Flask(__name__)\n",
    "\n",
    "@app.route('/')\n",
    "def index():\n",
    "    return 'Hello, World!'\n",
    "\n",
    "@app.route('/profile/<username>')\n",
    "def profile(username):\n",
    "    return 'Hello, {}!'.format(username)\n",
    "\n",
    "if __name__ == '__main__':\n",
    "    with app.test_request_context():\n",
    "        print(url_for('index'))\n",
    "        print(url_for('profile', username='alice'))\n",
    "\n",
    "Output:\n",
    "/\n",
    "/profile/alice\n",
    "\n",
    "As we can see, the url_for() function can be used to generate URLs for any function in a Flask application. This can be\n",
    "useful for generating links to different pages in the application, or for generating URLs for external resources."
   ]
  }
 ],
 "metadata": {
  "kernelspec": {
   "display_name": "Python 3 (ipykernel)",
   "language": "python",
   "name": "python3"
  },
  "language_info": {
   "codemirror_mode": {
    "name": "ipython",
    "version": 3
   },
   "file_extension": ".py",
   "mimetype": "text/x-python",
   "name": "python",
   "nbconvert_exporter": "python",
   "pygments_lexer": "ipython3",
   "version": "3.10.8"
  },
  "toc-showmarkdowntxt": true
 },
 "nbformat": 4,
 "nbformat_minor": 5
}
